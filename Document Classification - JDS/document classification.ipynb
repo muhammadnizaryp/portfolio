{
 "cells": [
  {
   "cell_type": "code",
   "execution_count": 1,
   "metadata": {},
   "outputs": [],
   "source": [
    "# Nama : Muhammad Nizar Yoga Pratama\n",
    "# Tema Tantangan : Document Classification\n",
    "# JABAR DIGITAL SERVICE"
   ]
  },
  {
   "cell_type": "code",
   "execution_count": 2,
   "metadata": {},
   "outputs": [],
   "source": [
    "import warnings\n",
    "warnings.filterwarnings('ignore')"
   ]
  },
  {
   "cell_type": "code",
   "execution_count": 3,
   "metadata": {},
   "outputs": [],
   "source": [
    "import pandas as pd\n",
    "import numpy as np"
   ]
  },
  {
   "cell_type": "code",
   "execution_count": 4,
   "metadata": {},
   "outputs": [],
   "source": [
    "# membaca dataset documents"
   ]
  },
  {
   "cell_type": "code",
   "execution_count": 5,
   "metadata": {},
   "outputs": [],
   "source": [
    "df = pd.read_csv('trainingdata.txt', skiprows=[0,0], delimiter=\"\\t\",  header=None, names=[\"Document\"])"
   ]
  },
  {
   "cell_type": "code",
   "execution_count": 6,
   "metadata": {},
   "outputs": [
    {
     "data": {
      "text/html": [
       "<div>\n",
       "<style scoped>\n",
       "    .dataframe tbody tr th:only-of-type {\n",
       "        vertical-align: middle;\n",
       "    }\n",
       "\n",
       "    .dataframe tbody tr th {\n",
       "        vertical-align: top;\n",
       "    }\n",
       "\n",
       "    .dataframe thead th {\n",
       "        text-align: right;\n",
       "    }\n",
       "</style>\n",
       "<table border=\"1\" class=\"dataframe\">\n",
       "  <thead>\n",
       "    <tr style=\"text-align: right;\">\n",
       "      <th></th>\n",
       "      <th>Document</th>\n",
       "    </tr>\n",
       "  </thead>\n",
       "  <tbody>\n",
       "    <tr>\n",
       "      <th>0</th>\n",
       "      <td>1 champion products ch approves stock split ch...</td>\n",
       "    </tr>\n",
       "    <tr>\n",
       "      <th>1</th>\n",
       "      <td>2 computer terminal systems cpml completes sal...</td>\n",
       "    </tr>\n",
       "    <tr>\n",
       "      <th>2</th>\n",
       "      <td>1 cobanco inc cbco year net shr cts vs dlrs ne...</td>\n",
       "    </tr>\n",
       "    <tr>\n",
       "      <th>3</th>\n",
       "      <td>1 am international inc am nd qtr jan oper shr ...</td>\n",
       "    </tr>\n",
       "    <tr>\n",
       "      <th>4</th>\n",
       "      <td>1 brown forman inc bfd th qtr net shr one dlr ...</td>\n",
       "    </tr>\n",
       "  </tbody>\n",
       "</table>\n",
       "</div>"
      ],
      "text/plain": [
       "                                            Document\n",
       "0  1 champion products ch approves stock split ch...\n",
       "1  2 computer terminal systems cpml completes sal...\n",
       "2  1 cobanco inc cbco year net shr cts vs dlrs ne...\n",
       "3  1 am international inc am nd qtr jan oper shr ...\n",
       "4  1 brown forman inc bfd th qtr net shr one dlr ..."
      ]
     },
     "execution_count": 6,
     "metadata": {},
     "output_type": "execute_result"
    }
   ],
   "source": [
    "df.head()"
   ]
  },
  {
   "cell_type": "code",
   "execution_count": 7,
   "metadata": {},
   "outputs": [],
   "source": [
    "# memisahkan antara teks dokumen dan label"
   ]
  },
  {
   "cell_type": "code",
   "execution_count": 8,
   "metadata": {},
   "outputs": [],
   "source": [
    "dataset = pd.DataFrame(columns=['Label','Text'])\n",
    "\n",
    "for row_data in range(0, len(df['Document'])):\n",
    "    label = df['Document'][row_data][0]\n",
    "    text = df['Document'][row_data][2:]\n",
    "    dataset = dataset.append({'Label': label, 'Text': text}, ignore_index=True)"
   ]
  },
  {
   "cell_type": "code",
   "execution_count": 9,
   "metadata": {},
   "outputs": [
    {
     "data": {
      "text/html": [
       "<div>\n",
       "<style scoped>\n",
       "    .dataframe tbody tr th:only-of-type {\n",
       "        vertical-align: middle;\n",
       "    }\n",
       "\n",
       "    .dataframe tbody tr th {\n",
       "        vertical-align: top;\n",
       "    }\n",
       "\n",
       "    .dataframe thead th {\n",
       "        text-align: right;\n",
       "    }\n",
       "</style>\n",
       "<table border=\"1\" class=\"dataframe\">\n",
       "  <thead>\n",
       "    <tr style=\"text-align: right;\">\n",
       "      <th></th>\n",
       "      <th>Label</th>\n",
       "      <th>Text</th>\n",
       "    </tr>\n",
       "  </thead>\n",
       "  <tbody>\n",
       "    <tr>\n",
       "      <th>0</th>\n",
       "      <td>1</td>\n",
       "      <td>champion products ch approves stock split cham...</td>\n",
       "    </tr>\n",
       "    <tr>\n",
       "      <th>1</th>\n",
       "      <td>2</td>\n",
       "      <td>computer terminal systems cpml completes sale ...</td>\n",
       "    </tr>\n",
       "    <tr>\n",
       "      <th>2</th>\n",
       "      <td>1</td>\n",
       "      <td>cobanco inc cbco year net shr cts vs dlrs net ...</td>\n",
       "    </tr>\n",
       "    <tr>\n",
       "      <th>3</th>\n",
       "      <td>1</td>\n",
       "      <td>am international inc am nd qtr jan oper shr lo...</td>\n",
       "    </tr>\n",
       "    <tr>\n",
       "      <th>4</th>\n",
       "      <td>1</td>\n",
       "      <td>brown forman inc bfd th qtr net shr one dlr vs...</td>\n",
       "    </tr>\n",
       "    <tr>\n",
       "      <th>...</th>\n",
       "      <td>...</td>\n",
       "      <td>...</td>\n",
       "    </tr>\n",
       "    <tr>\n",
       "      <th>5480</th>\n",
       "      <td>1</td>\n",
       "      <td>kelly oil and gas partners kly year dec shr ct...</td>\n",
       "    </tr>\n",
       "    <tr>\n",
       "      <th>5481</th>\n",
       "      <td>8</td>\n",
       "      <td>japan seeks to strengthen paris currency accor...</td>\n",
       "    </tr>\n",
       "    <tr>\n",
       "      <th>5482</th>\n",
       "      <td>1</td>\n",
       "      <td>tcw convertible securities cvt sets dividend t...</td>\n",
       "    </tr>\n",
       "    <tr>\n",
       "      <th>5483</th>\n",
       "      <td>8</td>\n",
       "      <td>south korean won fixed at month high the bank ...</td>\n",
       "    </tr>\n",
       "    <tr>\n",
       "      <th>5484</th>\n",
       "      <td>4</td>\n",
       "      <td>australian unions launch new south wales strik...</td>\n",
       "    </tr>\n",
       "  </tbody>\n",
       "</table>\n",
       "<p>5485 rows × 2 columns</p>\n",
       "</div>"
      ],
      "text/plain": [
       "     Label                                               Text\n",
       "0        1  champion products ch approves stock split cham...\n",
       "1        2  computer terminal systems cpml completes sale ...\n",
       "2        1  cobanco inc cbco year net shr cts vs dlrs net ...\n",
       "3        1  am international inc am nd qtr jan oper shr lo...\n",
       "4        1  brown forman inc bfd th qtr net shr one dlr vs...\n",
       "...    ...                                                ...\n",
       "5480     1  kelly oil and gas partners kly year dec shr ct...\n",
       "5481     8  japan seeks to strengthen paris currency accor...\n",
       "5482     1  tcw convertible securities cvt sets dividend t...\n",
       "5483     8  south korean won fixed at month high the bank ...\n",
       "5484     4  australian unions launch new south wales strik...\n",
       "\n",
       "[5485 rows x 2 columns]"
      ]
     },
     "execution_count": 9,
     "metadata": {},
     "output_type": "execute_result"
    }
   ],
   "source": [
    "dataset"
   ]
  },
  {
   "cell_type": "code",
   "execution_count": 10,
   "metadata": {},
   "outputs": [],
   "source": [
    "# menghitung jumlah sample data setiap class dataset"
   ]
  },
  {
   "cell_type": "code",
   "execution_count": 11,
   "metadata": {},
   "outputs": [
    {
     "data": {
      "text/plain": [
       "1    2840\n",
       "2    1596\n",
       "6     253\n",
       "3     251\n",
       "8     206\n",
       "7     190\n",
       "4     108\n",
       "5      41\n",
       "Name: Label, dtype: int64"
      ]
     },
     "execution_count": 11,
     "metadata": {},
     "output_type": "execute_result"
    }
   ],
   "source": [
    "dataset['Label'].value_counts()"
   ]
  },
  {
   "cell_type": "code",
   "execution_count": 12,
   "metadata": {},
   "outputs": [
    {
     "data": {
      "image/png": "[encoded data removed]",
      "text/plain": [
       "<Figure size 432x288 with 1 Axes>"
      ]
     },
     "metadata": {},
     "output_type": "display_data"
    }
   ],
   "source": [
    "import matplotlib.pyplot as plt\n",
    "import seaborn as sns\n",
    "\n",
    "sns.set_style(style=\"whitegrid\")\n",
    "sns.countplot(data=dataset, x='Label', order=dataset['Label'].value_counts().index, palette=\"Blues_d\")\n",
    "plt.show()"
   ]
  },
  {
   "cell_type": "code",
   "execution_count": 13,
   "metadata": {},
   "outputs": [],
   "source": [
    "# Terlihat bahwa sample data antar class tidak seimbang atau Imbalanced classes\n",
    "# Sehingga perlu hati-hati sekali untuk tahapan proses berikutnya"
   ]
  },
  {
   "cell_type": "code",
   "execution_count": 14,
   "metadata": {},
   "outputs": [],
   "source": [
    "# Membagi dataset menjadi data training (70%) dan data testing (30%)\n",
    "# Karena dataset bersifat Imbalanced classes, sehingga perlu digunakan parameter \"stratify\", untuk mencegah semakin parahnya Imbalanced classes\n",
    "# Hal tersebut supaya persentase proporsi pembagian sample antar class menjadi sama baik pada data training dan data testing"
   ]
  },
  {
   "cell_type": "code",
   "execution_count": 15,
   "metadata": {},
   "outputs": [],
   "source": [
    "from sklearn.model_selection import train_test_split\n",
    "\n",
    "X = dataset['Text']\n",
    "y = dataset['Label']\n",
    "X_train, X_test, y_train, y_test = train_test_split(X, y, test_size=0.3, random_state=101, stratify=y)"
   ]
  },
  {
   "cell_type": "code",
   "execution_count": 16,
   "metadata": {},
   "outputs": [
    {
     "data": {
      "image/png": "[encoded data removed]",
      "text/plain": [
       "<Figure size 432x288 with 1 Axes>"
      ]
     },
     "metadata": {},
     "output_type": "display_data"
    },
    {
     "data": {
      "image/png": "[encoded data removed]",
      "text/plain": [
       "<Figure size 432x432 with 1 Axes>"
      ]
     },
     "metadata": {},
     "output_type": "display_data"
    }
   ],
   "source": [
    "(label, counts) = np.unique(y_train, return_counts=True)\n",
    "\n",
    "plt.title(\"Proportion Jumlah Sample Data Train (70%) setiap Kelas\", fontsize=12)\n",
    "sns.barplot(label, counts, order=label, palette=\"Blues_d\")\n",
    "\n",
    "plt.figure(figsize=(6,6))\n",
    "plt.pie(counts, labels=label, autopct='%1.1f%%', pctdistance=0.8, textprops={'color':\"w\", 'weight':'bold', 'fontsize':12.5})\n",
    "plt.title(\"Persentase Proportion Jumlah Sample Data Train (70%) setiap Kelas\", fontsize=12)\n",
    "plt.legend(label, loc=\"upper right\", title=\"Class\")\n",
    "plt.show()"
   ]
  },
  {
   "cell_type": "code",
   "execution_count": 17,
   "metadata": {},
   "outputs": [
    {
     "data": {
      "image/png": "[encoded data removed]",
      "text/plain": [
       "<Figure size 432x288 with 1 Axes>"
      ]
     },
     "metadata": {},
     "output_type": "display_data"
    },
    {
     "data": {
      "image/png": "[encoded data removed]",
      "text/plain": [
       "<Figure size 504x504 with 1 Axes>"
      ]
     },
     "metadata": {},
     "output_type": "display_data"
    }
   ],
   "source": [
    "(label, counts) = np.unique(y_test, return_counts=True)\n",
    "\n",
    "plt.title(\"Proportion Jumlah Sample Data Test (30%) setiap Kelas\", fontsize=12)\n",
    "sns.barplot(label, counts, order=label, palette=\"Blues_d\")\n",
    "\n",
    "plt.figure(figsize=(7,7))\n",
    "plt.pie(counts, labels=label, autopct='%1.1f%%', pctdistance=0.8, textprops={'color':\"w\", 'weight':'bold', 'fontsize':12.5})\n",
    "plt.title(\"Persentase Proportion Jumlah Sample Data Test (30%) setiap Kelas\", fontsize=12)\n",
    "plt.legend(label, loc=\"upper right\", title=\"Class\")\n",
    "plt.show()"
   ]
  },
  {
   "cell_type": "code",
   "execution_count": 18,
   "metadata": {},
   "outputs": [],
   "source": [
    "# Terlihat bahwa pembagian proporsi sample setiap class baik pada data training dan testing memiliki persentase yang sama\n",
    "# misal class 1 persentase untuk data training dan testing sebesar 51.8%"
   ]
  },
  {
   "cell_type": "code",
   "execution_count": 19,
   "metadata": {},
   "outputs": [],
   "source": [
    "# Pembuatan model Machine Learning, digunakan Classification Model\n",
    "# dengan algoritma dari SVC dan MultinomialNB\n",
    "# alasan menggunakan 2 algoritma supaya ada pembanding mana algorima yang menghasilkan akurasi prediksi terbaik"
   ]
  },
  {
   "cell_type": "code",
   "execution_count": 20,
   "metadata": {},
   "outputs": [],
   "source": [
    "from sklearn.pipeline import Pipeline\n",
    "from sklearn.feature_extraction.text import TfidfVectorizer\n",
    "from sklearn.svm import SVC\n",
    "from sklearn.naive_bayes import MultinomialNB"
   ]
  },
  {
   "cell_type": "code",
   "execution_count": 21,
   "metadata": {},
   "outputs": [],
   "source": [
    "# Pembuatan model SVC dengan menggunakan metode Pipeline\n",
    "# dimana data training dilakukan preprocessing terlebih dahulu dengan TfidfVectorizer\n",
    "# kemudian dilatih menggunakan SVC"
   ]
  },
  {
   "cell_type": "code",
   "execution_count": 22,
   "metadata": {},
   "outputs": [
    {
     "data": {
      "text/plain": [
       "Pipeline(memory=None,\n",
       "         steps=[('tfidf_vect',\n",
       "                 TfidfVectorizer(analyzer='word', binary=False,\n",
       "                                 decode_error='strict',\n",
       "                                 dtype=<class 'numpy.float64'>,\n",
       "                                 encoding='utf-8', input='content',\n",
       "                                 lowercase=True, max_df=1.0, max_features=None,\n",
       "                                 min_df=1, ngram_range=(1, 1), norm='l2',\n",
       "                                 preprocessor=None, smooth_idf=True,\n",
       "                                 stop_words=None, strip_accents=None,\n",
       "                                 sublinear_tf=False,\n",
       "                                 token_pattern='(?u)\\\\b\\\\w\\\\w+\\\\b',\n",
       "                                 tokenizer=None, use_idf=True,\n",
       "                                 vocabulary=None)),\n",
       "                ('clf',\n",
       "                 SVC(C=1.0, break_ties=False, cache_size=200, class_weight=None,\n",
       "                     coef0=0.0, decision_function_shape='ovr', degree=3,\n",
       "                     gamma='scale', kernel='rbf', max_iter=-1,\n",
       "                     probability=False, random_state=None, shrinking=True,\n",
       "                     tol=0.001, verbose=False))],\n",
       "         verbose=False)"
      ]
     },
     "execution_count": 22,
     "metadata": {},
     "output_type": "execute_result"
    }
   ],
   "source": [
    "svc_model = Pipeline([('tfidf_vect', TfidfVectorizer()), ('clf', SVC())])\n",
    "svc_model.fit(X_train, y_train)"
   ]
  },
  {
   "cell_type": "code",
   "execution_count": 23,
   "metadata": {},
   "outputs": [],
   "source": [
    "# SVC Model yang telah dibuat dan dilatih kemudian digunakan untuk memprediksi data test"
   ]
  },
  {
   "cell_type": "code",
   "execution_count": 24,
   "metadata": {},
   "outputs": [],
   "source": [
    "predictions_svc = svc_model.predict(X_test)"
   ]
  },
  {
   "cell_type": "code",
   "execution_count": 25,
   "metadata": {},
   "outputs": [
    {
     "data": {
      "text/plain": [
       "'american express board approved nippon life purchase of shearson interest '"
      ]
     },
     "execution_count": 25,
     "metadata": {},
     "output_type": "execute_result"
    }
   ],
   "source": [
    "X_test.iloc[1]"
   ]
  },
  {
   "cell_type": "code",
   "execution_count": 26,
   "metadata": {},
   "outputs": [
    {
     "name": "stdout",
     "output_type": "stream",
     "text": [
      "Teks Dokumen=midland bank said it cutting its base rate to pct from pct , \n",
      "Prediksi Class=7\n",
      "\n",
      "Teks Dokumen=american express board approved nippon life purchase of shearson interest , \n",
      "Prediksi Class=2\n",
      "\n",
      "Teks Dokumen=wallace computer services inc wcs dividend qtly div cts vs cts previously pay june record june one reuter , \n",
      "Prediksi Class=1\n",
      "\n",
      "Teks Dokumen=dresser industries di sees return to profit dresser industries inc said it expects the joint ventures it has entered into and a gradual improvement in the energy market to allow it to regain profitability before the end of the current year dresser earned dlrs for the year ended october after a mln dlr gain from a change in accounting and pension plan curtailment and a mln dlr writedown of oilfield assets reuter , \n",
      "Prediksi Class=1\n",
      "\n",
      "Teks Dokumen=thousand trails inc trls year loss shr loss dlrs vs profit cts net loss vs profit revs mln vs mln note current year figures include mln dlr after tax writedown of land and improvements a mln dlr increase in allowance for doubtful accounts and after tax gain of three mln dlrs on debt retirement reuter , \n",
      "Prediksi Class=1\n",
      "\n",
      "Teks Dokumen=american resource corp ltd year net shr five cts vs cts net vs revs not given note prior shr and net include mln u s dlr gain on sale of equity holdings results in u s funds reuter , \n",
      "Prediksi Class=1\n",
      "\n",
      "Teks Dokumen=laroche drops condition to neco npt offer investor david f laroche said he has decided to drop the condition to his tender offer for shares of neco enterprises inc at dlrs each that at least shares be tendered he said he has extended the expiration of the offer until april thorugh march he said neco shares had been tendered laroche said he may obtain a short term loan of up to one mln dlrs from amoskeag bank to help finance the purchase of shares under the offer bearing interest of up to nine pct reuter , \n",
      "Prediksi Class=2\n",
      "\n"
     ]
    }
   ],
   "source": [
    "for i in range(7):\n",
    "    print(\"Teks Dokumen={}, \\nPrediksi Class={}\\n\".format(X_test.iloc[i], predictions_svc[i]))"
   ]
  },
  {
   "cell_type": "code",
   "execution_count": 27,
   "metadata": {},
   "outputs": [],
   "source": [
    "# Pembuatan model MultinomialNB dengan menggunakan metode Pipeline\n",
    "# dimana data training dilakukan preprocessing terlebih dahulu dengan TfidfVectorizer\n",
    "# kemudian dilatih menggunakan MultinomialNB"
   ]
  },
  {
   "cell_type": "code",
   "execution_count": 28,
   "metadata": {},
   "outputs": [
    {
     "data": {
      "text/plain": [
       "Pipeline(memory=None,\n",
       "         steps=[('tfidf_vect',\n",
       "                 TfidfVectorizer(analyzer='word', binary=False,\n",
       "                                 decode_error='strict',\n",
       "                                 dtype=<class 'numpy.float64'>,\n",
       "                                 encoding='utf-8', input='content',\n",
       "                                 lowercase=True, max_df=1.0, max_features=None,\n",
       "                                 min_df=1, ngram_range=(1, 1), norm='l2',\n",
       "                                 preprocessor=None, smooth_idf=True,\n",
       "                                 stop_words=None, strip_accents=None,\n",
       "                                 sublinear_tf=False,\n",
       "                                 token_pattern='(?u)\\\\b\\\\w\\\\w+\\\\b',\n",
       "                                 tokenizer=None, use_idf=True,\n",
       "                                 vocabulary=None)),\n",
       "                ('clf',\n",
       "                 MultinomialNB(alpha=1.0, class_prior=None, fit_prior=True))],\n",
       "         verbose=False)"
      ]
     },
     "execution_count": 28,
     "metadata": {},
     "output_type": "execute_result"
    }
   ],
   "source": [
    "mnb_model = Pipeline([('tfidf_vect', TfidfVectorizer()), ('clf', MultinomialNB())])\n",
    "mnb_model.fit(X_train, y_train)"
   ]
  },
  {
   "cell_type": "code",
   "execution_count": 29,
   "metadata": {},
   "outputs": [],
   "source": [
    "# MultinomialNB Model yang telah dibuat dan dilatih kemudian digunakan untuk memprediksi data test"
   ]
  },
  {
   "cell_type": "code",
   "execution_count": 30,
   "metadata": {},
   "outputs": [],
   "source": [
    "predictions_mnb = mnb_model.predict(X_test)"
   ]
  },
  {
   "cell_type": "code",
   "execution_count": 31,
   "metadata": {},
   "outputs": [],
   "source": [
    "# Evaluasi Hasil Prediksi setiap model dengan menggunakan metrics confusion_matrix, classification_report, accuracy_score"
   ]
  },
  {
   "cell_type": "code",
   "execution_count": 32,
   "metadata": {},
   "outputs": [],
   "source": [
    "from sklearn import metrics\n",
    "from sklearn.metrics import confusion_matrix, classification_report, accuracy_score"
   ]
  },
  {
   "cell_type": "code",
   "execution_count": 33,
   "metadata": {},
   "outputs": [
    {
     "name": "stdout",
     "output_type": "stream",
     "text": [
      "Confusion Matrix\n",
      "-----------------------------\n",
      "Support Vector Classification\n",
      "[[833  19   0   0   0   0   0   0]\n",
      " [  4 474   0   0   0   1   0   0]\n",
      " [  0   2  73   0   0   0   0   0]\n",
      " [  1  13   0  19   0   0   0   0]\n",
      " [  0  10   0   0   2   0   0   0]\n",
      " [  0   7   0   0   0  69   0   0]\n",
      " [  1   6   0   0   0   0  43   7]\n",
      " [  1   6   0   0   0   0   5  50]]\n",
      " \n",
      "Naive Bayes\n",
      "[[836  16   0   0   0   0   0   0]\n",
      " [ 17 462   0   0   0   0   0   0]\n",
      " [ 16  52   7   0   0   0   0   0]\n",
      " [  7  26   0   0   0   0   0   0]\n",
      " [  2  10   0   0   0   0   0   0]\n",
      " [ 26  44   0   0   0   6   0   0]\n",
      " [ 30  27   0   0   0   0   0   0]\n",
      " [ 25  33   0   0   0   0   0   4]]\n"
     ]
    }
   ],
   "source": [
    "print(\"Confusion Matrix\")\n",
    "print(\"-----------------------------\")\n",
    "print('Support Vector Classification')\n",
    "print(metrics.confusion_matrix(y_test, predictions_svc))\n",
    "print(\" \")\n",
    "print(\"Naive Bayes\")\n",
    "print(metrics.confusion_matrix(y_test, predictions_mnb))"
   ]
  },
  {
   "cell_type": "code",
   "execution_count": 34,
   "metadata": {},
   "outputs": [
    {
     "name": "stdout",
     "output_type": "stream",
     "text": [
      "Classification Report\n",
      "-----------------------------\n",
      "Support Vector Classification\n",
      "              precision    recall  f1-score   support\n",
      "\n",
      "           1       0.99      0.98      0.98       852\n",
      "           2       0.88      0.99      0.93       479\n",
      "           3       1.00      0.97      0.99        75\n",
      "           4       1.00      0.58      0.73        33\n",
      "           5       1.00      0.17      0.29        12\n",
      "           6       0.99      0.91      0.95        76\n",
      "           7       0.90      0.75      0.82        57\n",
      "           8       0.88      0.81      0.84        62\n",
      "\n",
      "    accuracy                           0.95      1646\n",
      "   macro avg       0.95      0.77      0.82      1646\n",
      "weighted avg       0.95      0.95      0.95      1646\n",
      "\n",
      " \n",
      "Naive Bayes\n",
      "              precision    recall  f1-score   support\n",
      "\n",
      "           1       0.87      0.98      0.92       852\n",
      "           2       0.69      0.96      0.80       479\n",
      "           3       1.00      0.09      0.17        75\n",
      "           4       0.00      0.00      0.00        33\n",
      "           5       0.00      0.00      0.00        12\n",
      "           6       1.00      0.08      0.15        76\n",
      "           7       0.00      0.00      0.00        57\n",
      "           8       1.00      0.06      0.12        62\n",
      "\n",
      "    accuracy                           0.80      1646\n",
      "   macro avg       0.57      0.27      0.27      1646\n",
      "weighted avg       0.78      0.80      0.73      1646\n",
      "\n"
     ]
    }
   ],
   "source": [
    "print(\"Classification Report\")\n",
    "print(\"-----------------------------\")\n",
    "print('Support Vector Classification')\n",
    "print(metrics.classification_report(y_test, predictions_svc))\n",
    "print(\" \")\n",
    "print(\"Naive Bayes\")\n",
    "print(metrics.classification_report(y_test, predictions_mnb))"
   ]
  },
  {
   "cell_type": "code",
   "execution_count": 35,
   "metadata": {},
   "outputs": [
    {
     "name": "stdout",
     "output_type": "stream",
     "text": [
      "Akurasi prediksi secara keseluruhan\n",
      "-----------------------------------\n",
      "Support Vector Classification\n",
      "0.95\n",
      " \n",
      "Naive Bayes\n",
      "0.8\n"
     ]
    }
   ],
   "source": [
    "# Akurasi prediksi secara keseluruhan\n",
    "print(\"Akurasi prediksi secara keseluruhan\")\n",
    "print(\"-----------------------------------\")\n",
    "print(\"Support Vector Classification\")\n",
    "print(round(metrics.accuracy_score(y_test, predictions_svc),2))\n",
    "print(\" \")\n",
    "print(\"Naive Bayes\")\n",
    "print(round(metrics.accuracy_score(y_test, predictions_mnb),2))"
   ]
  },
  {
   "cell_type": "code",
   "execution_count": 36,
   "metadata": {},
   "outputs": [],
   "source": [
    "# Dari tahapan diatas dan hasil evaluasi yang diperoleh\n",
    "# dapat disimpulkan bahwa pembuatan model untuk Documents Classification berhasil dilakukan\n",
    "# dengan SVC sebagai algoritma yang memiliki hasil prediksi terbaik (0.95 = 95%) jika dibandingkan dengan\n",
    "# Naive Bayes (0.8 = 80%)"
   ]
  },
  {
   "cell_type": "code",
   "execution_count": null,
   "metadata": {},
   "outputs": [],
   "source": []
  }
 ],
 "metadata": {
  "kernelspec": {
   "display_name": "Python 3",
   "language": "python",
   "name": "python3"
  },
  "language_info": {
   "codemirror_mode": {
    "name": "ipython",
    "version": 3
   },
   "file_extension": ".py",
   "mimetype": "text/x-python",
   "name": "python",
   "nbconvert_exporter": "python",
   "pygments_lexer": "ipython3",
   "version": "3.7.1"
  }
 },
 "nbformat": 4,
 "nbformat_minor": 4
}
